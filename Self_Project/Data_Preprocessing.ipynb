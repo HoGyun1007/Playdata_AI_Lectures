{
 "cells": [
  {
   "cell_type": "markdown",
   "metadata": {},
   "source": [
    "# 사고 CCTV_API를 불러와 사진 캡처"
   ]
  },
  {
   "cell_type": "code",
   "execution_count": null,
   "metadata": {},
   "outputs": [],
   "source": [
    "import cv2\n",
    "import time\n",
    "\n",
    "cpt = 0\n",
    "maxFrames = 130\n",
    "count=0\n",
    "\n",
    "cap=cv2.VideoCapture('http://cctvsec.ktict.co.kr/3283/rQHPsomRxUNAG2u09adEPoJhSNx/761lqARUUdzrtnKLD3OlDe+K0m1u3kvOcmxT3Z3qhZorSXixG5+nJRzpxmgH2L2820+xpWScmTAxz1M=')\n",
    "\n",
    "while cpt < maxFrames:\n",
    "    ret, frame = cap.read()\n",
    "    if not ret:\n",
    "        break\n",
    "    count += 1\n",
    "    if count % 3 != 0:\n",
    "        continue\n",
    "    frame=cv2.resize(frame,(1080,500))\n",
    "    cv2.imshow(\"test window\", frame) \n",
    "    cv2.imwrite(r\"C:/Users/lim1007/Desktop/self_project/cctv_accident_img/cctv_accident_img%d.jpg\" %cpt, frame)\n",
    "    time.sleep(0.01)\n",
    "    cpt += 1\n",
    "    if cv2.waitKey(5)&0xFF==27:\n",
    "        break\n",
    "\n",
    "cap.release()   \n",
    "cv2.destroyAllWindows()\n"
   ]
  },
  {
   "cell_type": "markdown",
   "metadata": {},
   "source": [
    "# CCTV_Car_images_data_txt 파일 변환 작업"
   ]
  },
  {
   "cell_type": "code",
   "execution_count": null,
   "metadata": {},
   "outputs": [],
   "source": [
    "import os\n",
    "\n",
    "directory_path = 'accident_data/Accident Detection.v1i.yolov8/train/labels'\n",
    "\n",
    "file_list = [f for f in os.listdir(directory_path) if f.endswith('.txt')]\n",
    "\n",
    "for file_name in file_list:\n",
    "    file_path = os.path.join(directory_path, file_name)\n",
    "\n",
    "    with open(file_path, 'r+') as file:\n",
    "        lines = file.readlines()\n",
    "        file.seek(0)\n",
    "\n",
    "        for line in lines:\n",
    "            data = line.strip().split(' ')\n",
    "            data[0] = '0'\n",
    "            file.write(' '.join(data) + '\\n')\n",
    "\n",
    "        file.truncate()\n",
    "\n",
    "    print(f\"클래스를 0로 변경한 내용이 {file_path}저장.\")\n"
   ]
  },
  {
   "cell_type": "code",
   "execution_count": null,
   "metadata": {},
   "outputs": [],
   "source": []
  },
  {
   "cell_type": "code",
   "execution_count": null,
   "metadata": {},
   "outputs": [],
   "source": []
  }
 ],
 "metadata": {
  "language_info": {
   "name": "python"
  }
 },
 "nbformat": 4,
 "nbformat_minor": 2
}
